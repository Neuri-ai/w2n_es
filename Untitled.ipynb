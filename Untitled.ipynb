{
 "cells": [
  {
   "cell_type": "code",
   "execution_count": 1,
   "id": "e9646b8f",
   "metadata": {},
   "outputs": [
    {
     "name": "stdout",
     "output_type": "stream",
     "text": [
      "{'cero': 0, 'uno': 1, 'dos': 2, 'tres': 3, 'cuatro': 4, 'cinco': 5, 'seis': 6, 'siete': 7, 'ocho': 8, 'nueve': 9, 'diez': 10, 'once': 11, 'doce': 12, 'trece': 13, 'catorce': 14, 'quince': 15, 'dieciséis': 16, 'diecisiete': 17, 'dieciocho': 18, 'diecinueve': 19, 'veinte': 20, 'veintiuno': 21, 'veintidós': 22, 'veintitrés': 23, 'veinticuatro': 24, 'veinticinco': 25, 'veintiséis': 26, 'veintisiete': 27, 'veintiocho': 28, 'veintinueve': 29, 'treinta': 30, 'treinta y uno': 31, 'treinta y dos': 32, 'treinta y tres': 33, 'treinta y cuatro': 34, 'treinta y cinco': 35, 'treinta y seis': 36, 'treinta y siete': 37, 'treinta y ocho': 38, 'treinta y nueve': 39, 'cuarenta': 40, 'cuarenta y uno': 41, 'cuarenta y dos': 42, 'cuarenta y tres': 43, 'cuarenta y cuatro': 44, 'cuarenta y cinco': 45, 'cuarenta y seis': 46, 'cuarenta y siete': 47, 'cuarenta y ocho': 48, 'cuarenta y nueve': 49, 'cincuenta': 50, 'cincuenta y uno': 51, 'cincuenta y dos': 52, 'cincuenta y tres': 53, 'cincuenta y cuatro': 54, 'cincuenta y cinco': 55, 'cincuenta y seis': 56, 'cincuenta y siete': 57, 'cincuenta y ocho': 58, 'cincuenta y nueve': 59, 'sesenta': 60, 'sesenta y uno': 61, 'sesenta y dos': 62, 'sesenta y tres': 63, 'sesenta y cuatro': 64, 'sesenta y cinco': 65, 'sesenta y seis': 66, 'sesenta y siete': 67, 'sesenta y ocho': 68, 'sesenta y nueve': 69, 'setenta': 70, 'setenta y uno': 71, 'setenta y dos': 72, 'setenta y tres': 73, 'setenta y cuatro': 74, 'setenta y cinco': 75, 'setenta y seis': 76, 'setenta y siete': 77, 'setenta y ocho': 78, 'setenta y nueve': 79, 'ochenta': 80, 'ochenta y uno': 81, 'ochenta y dos': 82, 'ochenta y tres': 83, 'ochenta y cuatro': 84, 'ochenta y cinco': 85, 'ochenta y seis': 86, 'ochenta y siete': 87, 'ochenta y ocho': 88, 'ochenta y nueve': 89, 'noventa': 90, 'noventa y uno': 91, 'noventa y dos': 92, 'noventa y tres': 93, 'noventa y cuatro': 94, 'noventa y cinco': 95, 'noventa y seis': 96, 'noventa y siete': 97, 'noventa y ocho': 98, 'noventa y nueve': 99, 'cien': 100}\n"
     ]
    }
   ],
   "source": [
    "str= \"\"\"\n",
    "0\tCero\n",
    "1\tuno\n",
    "2\tdos\n",
    "3\ttres\n",
    "4\tcuatro\n",
    "5\tcinco\n",
    "6\tseis\n",
    "7\tsiete\n",
    "8\tocho\n",
    "9\tnueve\n",
    "10\tdiez\n",
    "11\tonce\n",
    "12\tdoce\n",
    "13\ttrece\n",
    "14\tcatorce\n",
    "15\tquince\n",
    "16\tdieciséis\n",
    "17\tdiecisiete\n",
    "18\tdieciocho\n",
    "19\tdiecinueve\n",
    "20\tveinte\n",
    "21\tveintiuno\n",
    "22\tveintidós\n",
    "23\tveintitrés\n",
    "24\tveinticuatro\n",
    "25\tveinticinco\n",
    "26\tveintiséis\n",
    "27\tveintisiete\n",
    "28\tveintiocho\n",
    "29\tveintinueve\n",
    "30\ttreinta\n",
    "31\ttreinta y uno\n",
    "32\ttreinta y dos\n",
    "33\ttreinta y tres\n",
    "34\ttreinta y cuatro\n",
    "35\ttreinta y cinco\n",
    "36\ttreinta y seis\n",
    "37\ttreinta y siete\n",
    "38\ttreinta y ocho\n",
    "39\ttreinta y nueve\n",
    "40\tcuarenta\n",
    "41\tcuarenta y uno\n",
    "42\tcuarenta y dos\n",
    "43\tcuarenta y tres\n",
    "44\tcuarenta y cuatro\n",
    "45\tcuarenta y cinco\n",
    "46\tcuarenta y seis\n",
    "47\tcuarenta y siete\n",
    "48\tcuarenta y ocho\n",
    "49\tcuarenta y nueve\n",
    "50\tcincuenta\n",
    "51\tcincuenta y uno\n",
    "52\tcincuenta y dos\n",
    "53\tcincuenta y tres\n",
    "54\tcincuenta y cuatro\n",
    "55\tcincuenta y cinco\n",
    "56\tcincuenta y seis\n",
    "57\tcincuenta y siete\n",
    "58\tcincuenta y ocho\n",
    "59\tcincuenta y nueve\n",
    "60\tsesenta\n",
    "61\tsesenta y uno\n",
    "62\tsesenta y dos\n",
    "63\tsesenta y tres\n",
    "64\tsesenta y cuatro\n",
    "65\tsesenta y cinco\n",
    "66\tsesenta y seis\n",
    "67\tsesenta y siete\n",
    "68\tsesenta y ocho\n",
    "69\tsesenta y nueve\n",
    "70\tsetenta\n",
    "71\tsetenta y uno\n",
    "72\tsetenta y dos\n",
    "73\tsetenta y tres\n",
    "74\tsetenta y cuatro\n",
    "75\tsetenta y cinco\n",
    "76\tsetenta y seis\n",
    "77\tsetenta y siete\n",
    "78\tsetenta y ocho\n",
    "79\tsetenta y nueve\n",
    "80\tochenta\n",
    "81\tochenta y uno\n",
    "82\tochenta y dos\n",
    "83\tochenta y tres\n",
    "84\tochenta y cuatro\n",
    "85\tochenta y cinco\n",
    "86\tochenta y seis\n",
    "87\tochenta y siete\n",
    "88\tochenta y ocho\n",
    "89\tochenta y nueve\n",
    "90\tnoventa\n",
    "91\tnoventa y uno\n",
    "92\tnoventa y dos\n",
    "93\tnoventa y tres\n",
    "94\tnoventa y cuatro\n",
    "95\tnoventa y cinco\n",
    "96\tnoventa y seis\n",
    "97\tnoventa y siete\n",
    "98\tnoventa y ocho\n",
    "99\tnoventa y nueve\n",
    "100 cien\n",
    "\"\"\"\n",
    "str = str.replace(\"\\t\", \" \")\n",
    "str = str.lower()\n",
    "d = dict((v.strip(), int(k)) for k, v in (item.split(None, 1) for item in str.splitlines() if item))\n",
    "print(d)"
   ]
  },
  {
   "cell_type": "code",
   "execution_count": 12,
   "id": "a745a624",
   "metadata": {},
   "outputs": [
    {
     "name": "stdout",
     "output_type": "stream",
     "text": [
      "{'Two Hundred': 200, 'Two Hundred One': 201, 'Two Hundred Two': 202, 'Two Hundred Three': 203, 'Two Hundred Four': 204, 'Two Hundred Five': 205, 'Two Hundred Six': 206, 'Two Hundred Seven': 207, 'Two Hundred Eight': 208, 'Two Hundred Nine': 209, 'Two Hundred Ten': 210, 'Two Hundred Eleven': 211, 'Two Hundred Twelve': 212, 'Two Hundred Thirteen': 213, 'Two Hundred Fourteen': 214, 'Two Hundred Fifteen': 215, 'Two Hundred Sixteen': 216, 'Two Hundred Seventeen': 217, 'Two Hundred Eighteen': 218, 'Two Hundred Nineteen': 219, 'Two Hundred Twenty': 220, 'Two Hundred Twenty One': 221, 'Two Hundred Twenty Two': 222, 'Two Hundred Twenty Three': 223, 'Two Hundred Twenty Four': 224, 'Two Hundred Twenty Five': 225, 'Two Hundred Twenty Six': 226, 'Two Hundred Twenty Seven': 227, 'Two Hundred Twenty Eight': 228, 'Two Hundred Twenty Nine': 229, 'Two Hundred Thirty': 230, 'Two Hundred Thirty One': 231, 'Two Hundred Thirty Two': 232, 'Two Hundred Thirty Three': 233, 'Two Hundred Thirty Four': 234, 'Two Hundred Thirty Five': 235, 'Two Hundred Thirty Six': 236, 'Two Hundred Thirty Seven': 237, 'Two Hundred Thirty Eight': 238, 'Two Hundred Thirty Nine': 239, 'Two Hundred Fourty': 240, 'Two Hundred Fourty One': 241, 'Two Hundred Fourty Two': 242, 'Two Hundred Fourty Three': 243, 'Two Hundred Fourty Four': 244, 'Two Hundred Fourty Five': 245, 'Two Hundred Fourty Six': 246, 'Two Hundred Fourty Seven': 247, 'Two Hundred Fourty Eight': 248, 'Two Hundred Fourty Nine': 249, 'Two Hundred Fifty': 250, 'Two Hundred Fifty One': 251, 'Two Hundred Fifty Two': 252, 'Two Hundred Fifty Three': 253, 'Two Hundred Fifty Four': 254, 'Two Hundred Fifty Five': 255, 'Two Hundred Fifty Six': 256, 'Two Hundred Fifty Seven': 257, 'Two Hundred Fifty Eight': 258, 'Two Hundred Fifty Nine': 259, 'Two Hundred Sixty': 260, 'Two Hundred Sixty One': 261, 'Two Hundred Sixty Two': 262, 'Two Hundred Sixty Three': 263, 'Two Hundred Sixty Four': 264, 'Two Hundred Sixty Five': 265, 'Two Hundred Sixty Six': 266, 'Two Hundred Sixty Seven': 267, 'Two Hundred Sixty Eight': 268, 'Two Hundred Sixty Nine': 269, 'Two Hundred Seventy': 270, 'Two Hundred Seventy One': 271, 'Two Hundred Seventy Two': 272, 'Two Hundred Seventy Three': 273, 'Two Hundred Seventy Four': 274, 'Two Hundred Seventy Five': 275, 'Two Hundred Seventy Six': 276, 'Two Hundred Seventy Seven': 277, 'Two Hundred Seventy Eight': 278, 'Two Hundred Seventy Nine': 279, 'Two Hundred Eighty': 280, 'Two Hundred Eighty One': 281, 'Two Hundred Eighty Two': 282, 'Two Hundred Eighty Three': 283, 'Two Hundred Eighty Four': 284, 'Two Hundred Eighty Five': 285, 'Two Hundred Eighty Six': 286, 'Two Hundred Eighty Seven': 287, 'Two Hundred Eighty Eight': 288, 'Two Hundred Eighty Nine': 289, 'Two Hundred Ninety': 290, 'Two Hundred Ninety One': 291, 'Two Hundred Ninety Two': 292, 'Two Hundred Ninety Three': 293, 'Two Hundred Ninety Four': 294, 'Two Hundred Ninety Five': 295, 'Two Hundred Ninety Six': 296, 'Two Hundred Ninety Seven': 297, 'Two Hundred Ninety Eight': 298, 'Two Hundred Ninety Nine': 299, 'Three Hundred': 300, 'Three Hundred One': 301, 'Three Hundred Two': 302, 'Three Hundred Three': 303, 'Three Hundred Four': 304, 'Three Hundred Five': 305, 'Three Hundred Six': 306, 'Three Hundred Seven': 307, 'Three Hundred Eight': 308, 'Three Hundred Nine': 309, 'Three Hundred Ten': 310, 'Three Hundred Eleven': 311, 'Three Hundred Twelve': 312, 'Three Hundred Thirteen': 313, 'Three Hundred Fourteen': 314, 'Three Hundred Fifteen': 315, 'Three Hundred Sixteen': 316, 'Three Hundred Seventeen': 317, 'Three Hundred Eighteen': 318, 'Three Hundred Nineteen': 319, 'Three Hundred Twenty': 320, 'Three Hundred Twenty One': 321, 'Three Hundred Twenty Two': 322, 'Three Hundred Twenty Three': 323, 'Three Hundred Twenty Four': 324, 'Three Hundred Twenty Five': 325, 'Three Hundred Twenty Six': 326, 'Three Hundred Twenty Seven': 327, 'Three Hundred Twenty Eight': 328, 'Three Hundred Twenty Nine': 329, 'Three Hundred Thirty': 330, 'Three Hundred Thirty One': 331, 'Three Hundred Thirty Two': 332, 'Three Hundred Thirty Three': 333, 'Three Hundred Thirty Four': 334, 'Three Hundred Thirty Five': 335, 'Three Hundred Thirty Six': 336, 'Three Hundred Thirty Seven': 337, 'Three Hundred Thirty Eight': 338, 'Three Hundred Thirty Nine': 339, 'Three Hundred Fourty': 340, 'Three Hundred Fourty One': 341, 'Three Hundred Fourty Two': 342, 'Three Hundred Fourty Three': 343, 'Three Hundred Fourty Four': 344, 'Three Hundred Fourty Five': 345, 'Three Hundred Fourty Six': 346, 'Three Hundred Fourty Seven': 347, 'Three Hundred Fourty Eight': 348, 'Three Hundred Fourty Nine': 349, 'Three Hundred Fifty': 350, 'Three Hundred Fifty One': 351, 'Three Hundred Fifty Two': 352, 'Three Hundred Fifty Three': 353, 'Three Hundred Fifty Four': 354, 'Three Hundred Fifty Five': 355, 'Three Hundred Fifty Six': 356, 'Three Hundred Fifty Seven': 357, 'Three Hundred Fifty Eight': 358, 'Three Hundred Fifty Nine': 359, 'Three Hundred Sixty': 360, 'Three Hundred Sixty One': 361, 'Three Hundred Sixty Two': 362, 'Three Hundred Sixty Three': 363, 'Three Hundred Sixty Four': 364, 'Three Hundred Sixty Five': 365, 'Three Hundred Sixty Six': 366, 'Three Hundred Sixty Seven': 367, 'Three Hundred Sixty Eight': 368, 'Three Hundred Sixty Nine': 369, 'Three Hundred Seventy': 370, 'Three Hundred Seventy One': 371, 'Three Hundred Seventy Two': 372, 'Three Hundred Seventy Three': 373, 'Three Hundred Seventy Four': 374, 'Three Hundred Seventy Five': 375, 'Three Hundred Seventy Six': 376, 'Three Hundred Seventy Seven': 377, 'Three Hundred Seventy Eight': 378, 'Three Hundred Seventy Nine': 379, 'Three Hundred Eighty': 380, 'Three Hundred Eighty One': 381, 'Three Hundred Eighty Two': 382, 'Three Hundred Eighty Three': 383, 'Three Hundred Eighty Four': 384, 'Three Hundred Eighty Five': 385, 'Three Hundred Eighty Six': 386, 'Three Hundred Eighty Seven': 387, 'Three Hundred Eighty Eight': 388, 'Three Hundred Eighty Nine': 389, 'Three Hundred Ninety': 390, 'Three Hundred Ninety One': 391, 'Three Hundred Ninety Two': 392, 'Three Hundred Ninety Three': 393, 'Three Hundred Ninety Four': 394, 'Three Hundred Ninety Five': 395, 'Three Hundred Ninety Six': 396, 'Three Hundred Ninety Seven': 397, 'Three Hundred Ninety Eight': 398, 'Three Hundred Ninety Nine': 399, 'Four Hundred': 400, 'Four Hundred One': 401, 'Four Hundred Two': 402, 'Four Hundred Three': 403, 'Four Hundred Four': 404, 'Four Hundred Five': 405, 'Four Hundred Six': 406, 'Four Hundred Seven': 407, 'Four Hundred Eight': 408, 'Four Hundred Nine': 409, 'Four Hundred Ten': 410, 'Four Hundred Eleven': 411, 'Four Hundred Twelve': 412, 'Four Hundred Thirteen': 413, 'Four Hundred Fourteen': 414, 'Four Hundred Fifteen': 415, 'Four Hundred Sixteen': 416, 'Four Hundred Seventeen': 417, 'Four Hundred Eighteen': 418, 'Four Hundred Nineteen': 419, 'Four Hundred Twenty': 420, 'Four Hundred Twenty One': 421, 'Four Hundred Twenty Two': 422, 'Four Hundred Twenty Three': 423, 'Four Hundred Twenty Four': 424, 'Four Hundred Twenty Five': 425, 'Four Hundred Twenty Six': 426, 'Four Hundred Twenty Seven': 427, 'Four Hundred Twenty Eight': 428, 'Four Hundred Twenty Nine': 429, 'Four Hundred Thirty': 430, 'Four Hundred Thirty One': 431, 'Four Hundred Thirty Two': 432, 'Four Hundred Thirty Three': 433, 'Four Hundred Thirty Four': 434, 'Four Hundred Thirty Five': 435, 'Four Hundred Thirty Six': 436, 'Four Hundred Thirty Seven': 437, 'Four Hundred Thirty Eight': 438, 'Four Hundred Thirty Nine': 439, 'Four Hundred Fourty': 440, 'Four Hundred Fourty One': 441, 'Four Hundred Fourty Two': 442, 'Four Hundred Fourty Three': 443, 'Four Hundred Fourty Four': 444, 'Four Hundred Fourty Five': 445, 'Four Hundred Fourty Six': 446, 'Four Hundred Fourty Seven': 447, 'Four Hundred Fourty Eight': 448, 'Four Hundred Fourty Nine': 449, 'Four Hundred Fifty': 450, 'Four Hundred Fifty One': 451, 'Four Hundred Fifty Two': 452, 'Four Hundred Fifty Three': 453, 'Four Hundred Fifty Four': 454, 'Four Hundred Fifty Five': 455, 'Four Hundred Fifty Six': 456, 'Four Hundred Fifty Seven': 457, 'Four Hundred Fifty Eight': 458, 'Four Hundred Fifty Nine': 459, 'Four Hundred Sixty': 460, 'Four Hundred Sixty One': 461, 'Four Hundred Sixty Two': 462, 'Four Hundred Sixty Three': 463, 'Four Hundred Sixty Four': 464, 'Four Hundred Sixty Five': 465, 'Four Hundred Sixty Six': 466, 'Four Hundred Sixty Seven': 467, 'Four Hundred Sixty Eight': 468, 'Four Hundred Sixty Nine': 469, 'Four Hundred Seventy': 470, 'Four Hundred Seventy One': 471, 'Four Hundred Seventy Two': 472, 'Four Hundred Seventy Three': 473, 'Four Hundred Seventy Four': 474, 'Four Hundred Seventy Five': 475, 'Four Hundred Seventy Six': 476, 'Four Hundred Seventy Seven': 477, 'Four Hundred Seventy Eight': 478, 'Four Hundred Seventy Nine': 479, 'Four Hundred Eighty': 480, 'Four Hundred Eighty One': 481, 'Four Hundred Eighty Two': 482, 'Four Hundred Eighty Three': 483, 'Four Hundred Eighty Four': 484, 'Four Hundred Eighty Five': 485, 'Four Hundred Eighty Six': 486, 'Four Hundred Eighty Seven': 487, 'Four Hundred Eighty Eight': 488, 'Four Hundred Eighty Nine': 489, 'Four Hundred Ninety': 490, 'Four Hundred Ninety One': 491, 'Four Hundred Ninety Two': 492, 'Four Hundred Ninety Three': 493, 'Four Hundred Ninety Four': 494, 'Four Hundred Ninety Five': 495, 'Four Hundred Ninety Six': 496, 'Four Hundred Ninety Seven': 497, 'Four Hundred Ninety Eight': 498, 'Four Hundred Ninety Nine': 499, 'Five Hundred': 500, 'Five Hundred One': 501, 'Five Hundred Two': 502, 'Five Hundred Three': 503, 'Five Hundred Four': 504, 'Five Hundred Five': 505, 'Five Hundred Six': 506, 'Five Hundred Seven': 507, 'Five Hundred Eight': 508, 'Five Hundred Nine': 509, 'Five Hundred Ten': 510, 'Five Hundred Eleven': 511, 'Five Hundred Twelve': 512, 'Five Hundred Thirteen': 513, 'Five Hundred Fourteen': 514, 'Five Hundred Fifteen': 515, 'Five Hundred Sixteen': 516, 'Five Hundred Seventeen': 517, 'Five Hundred Eighteen': 518, 'Five Hundred Nineteen': 519, 'Five Hundred Twenty': 520, 'Five Hundred Twenty One': 521, 'Five Hundred Twenty Two': 522, 'Five Hundred Twenty Three': 523, 'Five Hundred Twenty Four': 524, 'Five Hundred Twenty Five': 525, 'Five Hundred Twenty Six': 526, 'Five Hundred Twenty Seven': 527, 'Five Hundred Twenty Eight': 528, 'Five Hundred Twenty Nine': 529, 'Five Hundred Thirty': 530, 'Five Hundred Thirty One': 531, 'Five Hundred Thirty Two': 532, 'Five Hundred Thirty Three': 533, 'Five Hundred Thirty Four': 534, 'Five Hundred Thirty Five': 535, 'Five Hundred Thirty Six': 536, 'Five Hundred Thirty Seven': 537, 'Five Hundred Thirty Eight': 538, 'Five Hundred Thirty Nine': 539, 'Five Hundred Fourty': 540, 'Five Hundred Fourty One': 541, 'Five Hundred Fourty Two': 542, 'Five Hundred Fourty Three': 543, 'Five Hundred Fourty Four': 544, 'Five Hundred Fourty Five': 545, 'Five Hundred Fourty Six': 546, 'Five Hundred Fourty Seven': 547, 'Five Hundred Fourty Eight': 548, 'Five Hundred Fourty Nine': 549, 'Five Hundred Fifty': 550, 'Five Hundred Fifty One': 551, 'Five Hundred Fifty Two': 552, 'Five Hundred Fifty Three': 553, 'Five Hundred Fifty Four': 554, 'Five Hundred Fifty Five': 555, 'Five Hundred Fifty Six': 556, 'Five Hundred Fifty Seven': 557, 'Five Hundred Fifty Eight': 558, 'Five Hundred Fifty Nine': 559, 'Five Hundred Sixty': 560, 'Five Hundred Sixty One': 561, 'Five Hundred Sixty Two': 562, 'Five Hundred Sixty Three': 563, 'Five Hundred Sixty Four': 564, 'Five Hundred Sixty Five': 565, 'Five Hundred Sixty Six': 566, 'Five Hundred Sixty Seven': 567, 'Five Hundred Sixty Eight': 568, 'Five Hundred Sixty Nine': 569, 'Five Hundred Seventy': 570, 'Five Hundred Seventy One': 571, 'Five Hundred Seventy Two': 572, 'Five Hundred Seventy Three': 573, 'Five Hundred Seventy Four': 574, 'Five Hundred Seventy Five': 575, 'Five Hundred Seventy Six': 576, 'Five Hundred Seventy Seven': 577, 'Five Hundred Seventy Eight': 578, 'Five Hundred Seventy Nine': 579, 'Five Hundred Eighty': 580, 'Five Hundred Eighty One': 581, 'Five Hundred Eighty Two': 582, 'Five Hundred Eighty Three': 583, 'Five Hundred Eighty Four': 584, 'Five Hundred Eighty Five': 585, 'Five Hundred Eighty Six': 586, 'Five Hundred Eighty Seven': 587, 'Five Hundred Eighty Eight': 588, 'Five Hundred Eighty Nine': 589, 'Five Hundred Ninety': 590, 'Five Hundred Ninety One': 591, 'Five Hundred Ninety Two': 592, 'Five Hundred Ninety Three': 593, 'Five Hundred Ninety Four': 594, 'Five Hundred Ninety Five': 595, 'Five Hundred Ninety Six': 596, 'Five Hundred Ninety Seven': 597, 'Five Hundred Ninety Eight': 598, 'Five Hundred Ninety Nine': 599, 'Six Hundred': 600, 'Six Hundred One': 601, 'Six Hundred Two': 602, 'Six Hundred Three': 603, 'Six Hundred Four': 604, 'Six Hundred Five': 605, 'Six Hundred Six': 606, 'Six Hundred Seven': 607, 'Six Hundred Eight': 608, 'Six Hundred Nine': 609, 'Six Hundred Ten': 610, 'Six Hundred Eleven': 611, 'Six Hundred Twelve': 612, 'Six Hundred Thirteen': 613, 'Six Hundred Fourteen': 614, 'Six Hundred Fifteen': 615, 'Six Hundred Sixteen': 616, 'Six Hundred Seventeen': 617, 'Six Hundred Eighteen': 618, 'Six Hundred Nineteen': 619, 'Six Hundred Twenty': 620, 'Six Hundred Twenty One': 621, 'Six Hundred Twenty Two': 622, 'Six Hundred Twenty Three': 623, 'Six Hundred Twenty Four': 624, 'Six Hundred Twenty Five': 625, 'Six Hundred Twenty Six': 626, 'Six Hundred Twenty Seven': 627, 'Six Hundred Twenty Eight': 628, 'Six Hundred Twenty Nine': 629, 'Six Hundred Thirty': 630, 'Six Hundred Thirty One': 631, 'Six Hundred Thirty Two': 632, 'Six Hundred Thirty Three': 633, 'Six Hundred Thirty Four': 634, 'Six Hundred Thirty Five': 635, 'Six Hundred Thirty Six': 636, 'Six Hundred Thirty Seven': 637, 'Six Hundred Thirty Eight': 638, 'Six Hundred Thirty Nine': 639, 'Six Hundred Fourty': 640, 'Six Hundred Fourty One': 641, 'Six Hundred Fourty Two': 642, 'Six Hundred Fourty Three': 643, 'Six Hundred Fourty Four': 644, 'Six Hundred Fourty Five': 645, 'Six Hundred Fourty Six': 646, 'Six Hundred Fourty Seven': 647, 'Six Hundred Fourty Eight': 648, 'Six Hundred Fourty Nine': 649, 'Six Hundred Fifty': 650, 'Six Hundred Fifty One': 651, 'Six Hundred Fifty Two': 652, 'Six Hundred Fifty Three': 653, 'Six Hundred Fifty Four': 654, 'Six Hundred Fifty Five': 655, 'Six Hundred Fifty Six': 656, 'Six Hundred Fifty Seven': 657, 'Six Hundred Fifty Eight': 658, 'Six Hundred Fifty Nine': 659, 'Six Hundred Sixty': 660, 'Six Hundred Sixty One': 661, 'Six Hundred Sixty Two': 662, 'Six Hundred Sixty Three': 663, 'Six Hundred Sixty Four': 664, 'Six Hundred Sixty Five': 665, 'Six Hundred Sixty Six': 666, 'Six Hundred Sixty Seven': 667, 'Six Hundred Sixty Eight': 668, 'Six Hundred Sixty Nine': 669, 'Six Hundred Seventy': 670, 'Six Hundred Seventy One': 671, 'Six Hundred Seventy Two': 672, 'Six Hundred Seventy Three': 673, 'Six Hundred Seventy Four': 674, 'Six Hundred Seventy Five': 675, 'Six Hundred Seventy Six': 676, 'Six Hundred Seventy Seven': 677, 'Six Hundred Seventy Eight': 678, 'Six Hundred Seventy Nine': 679, 'Six Hundred Eighty': 680, 'Six Hundred Eighty One': 681, 'Six Hundred Eighty Two': 682, 'Six Hundred Eighty Three': 683, 'Six Hundred Eighty Four': 684, 'Six Hundred Eighty Five': 685, 'Six Hundred Eighty Six': 686, 'Six Hundred Eighty Seven': 687, 'Six Hundred Eighty Eight': 688, 'Six Hundred Eighty Nine': 689, 'Six Hundred Ninety': 690, 'Six Hundred Ninety One': 691, 'Six Hundred Ninety Two': 692, 'Six Hundred Ninety Three': 693, 'Six Hundred Ninety Four': 694, 'Six Hundred Ninety Five': 695, 'Six Hundred Ninety Six': 696, 'Six Hundred Ninety Seven': 697, 'Six Hundred Ninety Eight': 698, 'Six Hundred Ninety Nine': 699, 'Seven Hundred': 700, 'Seven Hundred One': 701, 'Seven Hundred Two': 702, 'Seven Hundred Three': 703, 'Seven Hundred Four': 704, 'Seven Hundred Five': 705, 'Seven Hundred Six': 706, 'Seven Hundred Seven': 707, 'Seven Hundred Eight': 708, 'Seven Hundred Nine': 709, 'Seven Hundred Ten': 710, 'Seven Hundred Eleven': 711, 'Seven Hundred Twelve': 712, 'Seven Hundred Thirteen': 713, 'Seven Hundred Fourteen': 714, 'Seven Hundred Fifteen': 715, 'Seven Hundred Sixteen': 716, 'Seven Hundred Seventeen': 717, 'Seven Hundred Eighteen': 718, 'Seven Hundred Nineteen': 719, 'Seven Hundred Twenty': 720, 'Seven Hundred Twenty One': 721, 'Seven Hundred Twenty Two': 722, 'Seven Hundred Twenty Three': 723, 'Seven Hundred Twenty Four': 724, 'Seven Hundred Twenty Five': 725, 'Seven Hundred Twenty Six': 726, 'Seven Hundred Twenty Seven': 727, 'Seven Hundred Twenty Eight': 728, 'Seven Hundred Twenty Nine': 729, 'Seven Hundred Thirty': 730, 'Seven Hundred Thirty One': 731, 'Seven Hundred Thirty Two': 732, 'Seven Hundred Thirty Three': 733, 'Seven Hundred Thirty Four': 734, 'Seven Hundred Thirty Five': 735, 'Seven Hundred Thirty Six': 736, 'Seven Hundred Thirty Seven': 737, 'Seven Hundred Thirty Eight': 738, 'Seven Hundred Thirty Nine': 739, 'Seven Hundred Fourty': 740, 'Seven Hundred Fourty One': 741, 'Seven Hundred Fourty Two': 742, 'Seven Hundred Fourty Three': 743, 'Seven Hundred Fourty Four': 744, 'Seven Hundred Fourty Five': 745, 'Seven Hundred Fourty Six': 746, 'Seven Hundred Fourty Seven': 747, 'Seven Hundred Fourty Eight': 748, 'Seven Hundred Fourty Nine': 749, 'Seven Hundred Fifty': 750, 'Seven Hundred Fifty One': 751, 'Seven Hundred Fifty Two': 752, 'Seven Hundred Fifty Three': 753, 'Seven Hundred Fifty Four': 754, 'Seven Hundred Fifty Five': 755, 'Seven Hundred Fifty Six': 756, 'Seven Hundred Fifty Seven': 757, 'Seven Hundred Fifty Eight': 758, 'Seven Hundred Fifty Nine': 759, 'Seven Hundred Sixty': 760, 'Seven Hundred Sixty One': 761, 'Seven Hundred Sixty Two': 762, 'Seven Hundred Sixty Three': 763, 'Seven Hundred Sixty Four': 764, 'Seven Hundred Sixty Five': 765, 'Seven Hundred Sixty Six': 766, 'Seven Hundred Sixty Seven': 767, 'Seven Hundred Sixty Eight': 768, 'Seven Hundred Sixty Nine': 769, 'Seven Hundred Seventy': 770, 'Seven Hundred Seventy One': 771, 'Seven Hundred Seventy Two': 772, 'Seven Hundred Seventy Three': 773, 'Seven Hundred Seventy Four': 774, 'Seven Hundred Seventy Five': 775, 'Seven Hundred Seventy Six': 776, 'Seven Hundred Seventy Seven': 777, 'Seven Hundred Seventy Eight': 778, 'Seven Hundred Seventy Nine': 779, 'Seven Hundred Eighty': 780, 'Seven Hundred Eighty One': 781, 'Seven Hundred Eighty Two': 782, 'Seven Hundred Eighty Three': 783, 'Seven Hundred Eighty Four': 784, 'Seven Hundred Eighty Five': 785, 'Seven Hundred Eighty Six': 786, 'Seven Hundred Eighty Seven': 787, 'Seven Hundred Eighty Eight': 788, 'Seven Hundred Eighty Nine': 789, 'Seven Hundred Ninety': 790, 'Seven Hundred Ninety One': 791, 'Seven Hundred Ninety Two': 792, 'Seven Hundred Ninety Three': 793, 'Seven Hundred Ninety Four': 794, 'Seven Hundred Ninety Five': 795, 'Seven Hundred Ninety Six': 796, 'Seven Hundred Ninety Seven': 797, 'Seven Hundred Ninety Eight': 798, 'Seven Hundred Ninety Nine': 799, 'Eight Hundred': 800, 'Eight Hundred One': 801, 'Eight Hundred Two': 802, 'Eight Hundred Three': 803, 'Eight Hundred Four': 804, 'Eight Hundred Five': 805, 'Eight Hundred Six': 806, 'Eight Hundred Seven': 807, 'Eight Hundred Eight': 808, 'Eight Hundred Nine': 809, 'Eight Hundred Ten': 810, 'Eight Hundred Eleven': 811, 'Eight Hundred Twelve': 812, 'Eight Hundred Thirteen': 813, 'Eight Hundred Fourteen': 814, 'Eight Hundred Fifteen': 815, 'Eight Hundred Sixteen': 816, 'Eight Hundred Seventeen': 817, 'Eight Hundred Eighteen': 818, 'Eight Hundred Nineteen': 819, 'Eight Hundred Twenty': 820, 'Eight Hundred Twenty One': 821, 'Eight Hundred Twenty Two': 822, 'Eight Hundred Twenty Three': 823, 'Eight Hundred Twenty Four': 824, 'Eight Hundred Twenty Five': 825, 'Eight Hundred Twenty Six': 826, 'Eight Hundred Twenty Seven': 827, 'Eight Hundred Twenty Eight': 828, 'Eight Hundred Twenty Nine': 829, 'Eight Hundred Thirty': 830, 'Eight Hundred Thirty One': 831, 'Eight Hundred Thirty Two': 832, 'Eight Hundred Thirty Three': 833, 'Eight Hundred Thirty Four': 834, 'Eight Hundred Thirty Five': 835, 'Eight Hundred Thirty Six': 836, 'Eight Hundred Thirty Seven': 837, 'Eight Hundred Thirty Eight': 838, 'Eight Hundred Thirty Nine': 839, 'Eight Hundred Fourty': 840, 'Eight Hundred Fourty One': 841, 'Eight Hundred Fourty Two': 842, 'Eight Hundred Fourty Three': 843, 'Eight Hundred Fourty Four': 844, 'Eight Hundred Fourty Five': 845, 'Eight Hundred Fourty Six': 846, 'Eight Hundred Fourty Seven': 847, 'Eight Hundred Fourty Eight': 848, 'Eight Hundred Fourty Nine': 849, 'Eight Hundred Fifty': 850, 'Eight Hundred Fifty One': 851, 'Eight Hundred Fifty Two': 852, 'Eight Hundred Fifty Three': 853, 'Eight Hundred Fifty Four': 854, 'Eight Hundred Fifty Five': 855, 'Eight Hundred Fifty Six': 856, 'Eight Hundred Fifty Seven': 857, 'Eight Hundred Fifty Eight': 858, 'Eight Hundred Fifty Nine': 859, 'Eight Hundred Sixty': 860, 'Eight Hundred Sixty One': 861, 'Eight Hundred Sixty Two': 862, 'Eight Hundred Sixty Three': 863, 'Eight Hundred Sixty Four': 864, 'Eight Hundred Sixty Five': 865, 'Eight Hundred Sixty Six': 866, 'Eight Hundred Sixty Seven': 867, 'Eight Hundred Sixty Eight': 868, 'Eight Hundred Sixty Nine': 869, 'Eight Hundred Seventy': 870, 'Eight Hundred Seventy One': 871, 'Eight Hundred Seventy Two': 872, 'Eight Hundred Seventy Three': 873, 'Eight Hundred Seventy Four': 874, 'Eight Hundred Seventy Five': 875, 'Eight Hundred Seventy Six': 876, 'Eight Hundred Seventy Seven': 877, 'Eight Hundred Seventy Eight': 878, 'Eight Hundred Seventy Nine': 879, 'Eight Hundred Eighty': 880, 'Eight Hundred Eighty One': 881, 'Eight Hundred Eighty Two': 882, 'Eight Hundred Eighty Three': 883, 'Eight Hundred Eighty Four': 884, 'Eight Hundred Eighty Five': 885, 'Eight Hundred Eighty Six': 886, 'Eight Hundred Eighty Seven': 887, 'Eight Hundred Eighty Eight': 888, 'Eight Hundred Eighty Nine': 889, 'Eight Hundred Ninety': 890, 'Eight Hundred Ninety One': 891, 'Eight Hundred Ninety Two': 892, 'Eight Hundred Ninety Three': 893, 'Eight Hundred Ninety Four': 894, 'Eight Hundred Ninety Five': 895, 'Eight Hundred Ninety Six': 896, 'Eight Hundred Ninety Seven': 897, 'Eight Hundred Ninety Eight': 898, 'Eight Hundred Ninety Nine': 899, 'Nine Hundred': 900, 'Nine Hundred One': 901, 'Nine Hundred Two': 902, 'Nine Hundred Three': 903, 'Nine Hundred Four': 904, 'Nine Hundred Five': 905, 'Nine Hundred Six': 906, 'Nine Hundred Seven': 907, 'Nine Hundred Eight': 908, 'Nine Hundred Nine': 909, 'Nine Hundred Ten': 910, 'Nine Hundred Eleven': 911, 'Nine Hundred Twelve': 912, 'Nine Hundred Thirteen': 913, 'Nine Hundred Fourteen': 914, 'Nine Hundred Fifteen': 915, 'Nine Hundred Sixteen': 916, 'Nine Hundred Seventeen': 917, 'Nine Hundred Eighteen': 918, 'Nine Hundred Nineteen': 919, 'Nine Hundred Twenty': 920, 'Nine Hundred Twenty One': 921, 'Nine Hundred Twenty Two': 922, 'Nine Hundred Twenty Three': 923, 'Nine Hundred Twenty Four': 924, 'Nine Hundred Twenty Five': 925, 'Nine Hundred Twenty Six': 926, 'Nine Hundred Twenty Seven': 927, 'Nine Hundred Twenty Eight': 928, 'Nine Hundred Twenty Nine': 929, 'Nine Hundred Thirty': 930, 'Nine Hundred Thirty One': 931, 'Nine Hundred Thirty Two': 932, 'Nine Hundred Thirty Three': 933, 'Nine Hundred Thirty Four': 934, 'Nine Hundred Thirty Five': 935, 'Nine Hundred Thirty Six': 936, 'Nine Hundred Thirty Seven': 937, 'Nine Hundred Thirty Eight': 938, 'Nine Hundred Thirty Nine': 939, 'Nine Hundred Fourty': 940, 'Nine Hundred Fourty One': 941, 'Nine Hundred Fourty Two': 942, 'Nine Hundred Fourty Three': 943, 'Nine Hundred Fourty Four': 944, 'Nine Hundred Fourty Five': 945, 'Nine Hundred Fourty Six': 946, 'Nine Hundred Fourty Seven': 947, 'Nine Hundred Fourty Eight': 948, 'Nine Hundred Fourty Nine': 949, 'Nine Hundred Fifty': 950, 'Nine Hundred Fifty One': 951, 'Nine Hundred Fifty Two': 952, 'Nine Hundred Fifty Three': 953, 'Nine Hundred Fifty Four': 954, 'Nine Hundred Fifty Five': 955, 'Nine Hundred Fifty Six': 956, 'Nine Hundred Fifty Seven': 957, 'Nine Hundred Fifty Eight': 958, 'Nine Hundred Fifty Nine': 959, 'Nine Hundred Sixty': 960, 'Nine Hundred Sixty One': 961, 'Nine Hundred Sixty Two': 962, 'Nine Hundred Sixty Three': 963, 'Nine Hundred Sixty Four': 964, 'Nine Hundred Sixty Five': 965, 'Nine Hundred Sixty Six': 966, 'Nine Hundred Sixty Seven': 967, 'Nine Hundred Sixty Eight': 968, 'Nine Hundred Sixty Nine': 969, 'Nine Hundred Seventy': 970, 'Nine Hundred Seventy One': 971, 'Nine Hundred Seventy Two': 972, 'Nine Hundred Seventy Three': 973, 'Nine Hundred Seventy Four': 974, 'Nine Hundred Seventy Five': 975, 'Nine Hundred Seventy Six': 976, 'Nine Hundred Seventy Seven': 977, 'Nine Hundred Seventy Eight': 978, 'Nine Hundred Seventy Nine': 979, 'Nine Hundred Eighty': 980, 'Nine Hundred Eighty One': 981, 'Nine Hundred Eighty Two': 982, 'Nine Hundred Eighty Three': 983, 'Nine Hundred Eighty Four': 984, 'Nine Hundred Eighty Five': 985, 'Nine Hundred Eighty Six': 986, 'Nine Hundred Eighty Seven': 987, 'Nine Hundred Eighty Eight': 988, 'Nine Hundred Eighty Nine': 989, 'Nine Hundred Ninety': 990, 'Nine Hundred Ninety One': 991, 'Nine Hundred Ninety Two': 992, 'Nine Hundred Ninety Three': 993, 'Nine Hundred Ninety Four': 994, 'Nine Hundred Ninety Five': 995, 'Nine Hundred Ninety Six': 996, 'Nine Hundred Ninety Seven': 997, 'Nine Hundred Ninety Eight': 998, 'Nine Hundred Ninety Nine': 999}\n"
     ]
    }
   ],
   "source": [
    "from num2word import word\n",
    "numbers = {}\n",
    "\n",
    "for x in range(200, 1000):\n",
    "    numbers[word(x)] = x\n",
    "    \n",
    "print(numbers)"
   ]
  },
  {
   "cell_type": "code",
   "execution_count": null,
   "id": "73f28990",
   "metadata": {},
   "outputs": [],
   "source": []
  },
  {
   "cell_type": "code",
   "execution_count": null,
   "id": "7af94ccc",
   "metadata": {},
   "outputs": [],
   "source": []
  },
  {
   "cell_type": "code",
   "execution_count": null,
   "id": "0e015228",
   "metadata": {},
   "outputs": [],
   "source": []
  }
 ],
 "metadata": {
  "kernelspec": {
   "display_name": "Python (neuri)",
   "language": "python",
   "name": "neuri"
  },
  "language_info": {
   "codemirror_mode": {
    "name": "ipython",
    "version": 3
   },
   "file_extension": ".py",
   "mimetype": "text/x-python",
   "name": "python",
   "nbconvert_exporter": "python",
   "pygments_lexer": "ipython3",
   "version": "3.10.8"
  }
 },
 "nbformat": 4,
 "nbformat_minor": 5
}
